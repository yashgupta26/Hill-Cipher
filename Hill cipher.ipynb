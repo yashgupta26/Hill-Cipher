{
 "cells": [
  {
   "cell_type": "code",
   "execution_count": 1,
   "metadata": {},
   "outputs": [],
   "source": [
    "import numpy as np\n",
    "\n",
    "def encryptPassage(message, alphabet):\n",
    "    \n",
    "    encodedMessage = []\n",
    "    for (first, second) in zip(message[0::2],message[1::2]):\n",
    "        \n",
    "        array = [alphabet.index(first),alphabet.index(second)]\n",
    "        dotProduct = encodingMatrix.dot(np.array(array))\n",
    "        modDot = dotProduct % len(alphabet)\n",
    "        encodedMessage.append(alphabet[modDot[0]])\n",
    "        encodedMessage.append(alphabet[modDot[1]])\n",
    "    print(encodedMessage)\n",
    "    return encodedMessage\n",
    "\n"
   ]
  },
  {
   "cell_type": "code",
   "execution_count": 2,
   "metadata": {},
   "outputs": [],
   "source": [
    "def find_factors(x):\n",
    "    factors = []\n",
    "    for i in range(1, x + 1):\n",
    "        if x % i == 0:\n",
    "            factors.append(i)\n",
    "    return factors"
   ]
  },
  {
   "cell_type": "code",
   "execution_count": 3,
   "metadata": {},
   "outputs": [],
   "source": [
    "def getModuloRecip(alphabet):\n",
    "    recipModuloDict = {}\n",
    "    length = len(alphabet)\n",
    "    for x in range(0, length):\n",
    "        for y in range(0, length):\n",
    "            number = x * y\n",
    "            if number % length == 1:\n",
    "                recipModuloDict[x] = y\n",
    "            continue\n",
    "        continue\n",
    "    return recipModuloDict"
   ]
  },
  {
   "cell_type": "code",
   "execution_count": 4,
   "metadata": {},
   "outputs": [],
   "source": [
    "def decryptPassage(message, encodingMatrix,alphabet):\n",
    "    determinateFinal = round(np.linalg.det(encodingMatrix))\n",
    "    print(determinateFinal)\n",
    "    recipModuloDict = getModuloRecip(alphabet)\n",
    "    print(recipModuloDict)\n",
    "    repModuloValue = recipModuloDict[abs(determinateFinal)]\n",
    "    print(determinateFinal ** -1 % len(alphabet))\n",
    "    newMatrix = np.array([[repModuloValue * encodingMatrix[1][1],-repModuloValue * encodingMatrix[0][1]],[-repModuloValue * encodingMatrix[1][0], repModuloValue * encodingMatrix[0][0]]])\n",
    "    newMatrixMod = [[newMatrix[0][0] % len(alphabet), newMatrix[0][1] % len(alphabet)], [newMatrix[1][0] % len(alphabet), newMatrix[1][1] % len(alphabet)]]\n",
    "    decodedMessage = []\n",
    "    for (first, second) in zip(message[0::2],message[1::2]):\n",
    "        multiplied = np.array(newMatrixMod).dot(np.array([alphabet.index(first), alphabet.index(second)]))\n",
    "        multipliedMod = multiplied % len(alphabet)\n",
    "        decodedMessage.append(alphabet[multipliedMod[0]])\n",
    "        decodedMessage.append(alphabet[multipliedMod[1]])\n",
    "    print(decodedMessage)\n",
    "    return decodedMessage"
   ]
  },
  {
   "cell_type": "code",
   "execution_count": 5,
   "metadata": {},
   "outputs": [
    {
     "name": "stdout",
     "output_type": "stream",
     "text": [
      "Do you want to: A) Encrypt a passage. B) Decrypt a passage. Q) Quit program [A/B/Q]?A\n",
      "Enter passage you wish to encrypt: have a good day \n",
      "['g', 'v', 'j', 'i', 'y', '.', 'z', 'q', 'y', 'j', 'k', 'b', 'p', 'j', ' ', 'g']\n",
      "Your encrypted passage is: gvjiy.zqyjkbpj g\n",
      "Do you want to: A) Encrypt a passage. B) Decrypt a passage. Q) Quit program [A/B/Q]?B\n",
      "Enter passage you wish to decrypt: gvjiy.zqyjkbpj g \n",
      "25\n",
      "{1: 1, 2: 15, 3: 10, 4: 22, 5: 6, 6: 5, 7: 25, 8: 11, 9: 13, 10: 3, 11: 8, 12: 17, 13: 9, 14: 27, 15: 2, 16: 20, 17: 12, 18: 21, 19: 26, 20: 16, 21: 18, 22: 4, 23: 24, 24: 23, 25: 7, 26: 19, 27: 14, 28: 28}\n",
      "0.04\n",
      "['h', 'a', 'v', 'e', ' ', 'a', ' ', 'g', 'o', 'o', 'd', ' ', 'd', 'a', 'y', ' ']\n",
      "Your decrypted passage is: have a good day \n",
      "Do you want to: A) Encrypt a passage. B) Decrypt a passage. Q) Quit program [A/B/Q]?q\n"
     ]
    }
   ],
   "source": [
    "alphabet = ['a', 'b', 'c', 'd', 'e', 'f', 'g', 'h','i', 'j', 'k', 'l', 'm', 'n', 'o', 'p', 'q', 'r','s', 't', 'u','v', 'w', 'x', 'y', 'z', '.', '?', ' ']\n",
    "encodingMatrix = np.array([[5, 5], [3, 8]])\n",
    "factorsNotAllowed = find_factors(len(alphabet) + 1)\n",
    "determinateEncodingMatrix = round(np.linalg.det(encodingMatrix))\n",
    "if determinateEncodingMatrix in factorsNotAllowed[1:-1]:\n",
    "    print(\"Encoding Matrix not allowed, please choose another\")\n",
    "choiceOfRun = ''\n",
    "while choiceOfRun != \"A\" or \"B\" or \"Q\":\n",
    "    choiceOfRun = input(\"Do you want to: A) Encrypt a passage. B) Decrypt a passage. Q) Quit program [A/B/Q]?\").upper()\n",
    "    if choiceOfRun == \"A\":\n",
    "        # Encryption\n",
    "        passageInput = input(\"Enter passage you wish to encrypt: \")\n",
    "        passageInput = passageInput.lower()\n",
    "        encryptedPassage = encryptPassage(passageInput, alphabet)\n",
    "        encryptedPassageString = ''.join(encryptedPassage)\n",
    "        print(\"Your encrypted passage is: \" + encryptedPassageString)\n",
    "        choiceOfRun = ''\n",
    "        continue\n",
    "    if choiceOfRun == \"B\":\n",
    "        # Decryption\n",
    "        encryptedPassageInput = input(\"Enter passage you wish to decrypt: \")\n",
    "        encryptedPassageInput = encryptedPassageInput.lower()\n",
    "        decryptedPassage = decryptPassage(encryptedPassageInput, encodingMatrix, alphabet)\n",
    "        decryptedPassageString = ''.join(decryptedPassage)\n",
    "        print(\"Your decrypted passage is: \" + decryptedPassageString)\n",
    "        choiceOfRun = ''\n",
    "        continue\n",
    "    if choiceOfRun == \"Q\":\n",
    "        break\n",
    "\n"
   ]
  },
  {
   "cell_type": "code",
   "execution_count": null,
   "metadata": {},
   "outputs": [],
   "source": []
  },
  {
   "cell_type": "code",
   "execution_count": null,
   "metadata": {},
   "outputs": [],
   "source": []
  }
 ],
 "metadata": {
  "kernelspec": {
   "display_name": "Python 3",
   "language": "python",
   "name": "python3"
  },
  "language_info": {
   "codemirror_mode": {
    "name": "ipython",
    "version": 3
   },
   "file_extension": ".py",
   "mimetype": "text/x-python",
   "name": "python",
   "nbconvert_exporter": "python",
   "pygments_lexer": "ipython3",
   "version": "3.8.5"
  }
 },
 "nbformat": 4,
 "nbformat_minor": 2
}
